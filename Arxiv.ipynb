{
 "cells": [
  {
   "cell_type": "code",
   "execution_count": 8,
   "id": "75f5ea51",
   "metadata": {},
   "outputs": [],
   "source": [
    "import re"
   ]
  },
  {
   "cell_type": "code",
   "execution_count": 37,
   "id": "0343d47b",
   "metadata": {},
   "outputs": [],
   "source": [
    "with open(\"cs daily Subj-class mailing 80000 26.eml\") as f:\n",
    "    data = f.read()"
   ]
  },
  {
   "cell_type": "code",
   "execution_count": 38,
   "id": "4e9e6a6e",
   "metadata": {},
   "outputs": [],
   "source": [
    "submissions = re.findall(r\"\\n\\\\\\\\\\narXiv:.*?-{78}\", data, re.DOTALL)"
   ]
  },
  {
   "cell_type": "code",
   "execution_count": 39,
   "id": "aba13853",
   "metadata": {},
   "outputs": [
    {
     "data": {
      "text/plain": [
       "'\\n\\\\\\\\\\narXiv:2208.05512\\nDate: Wed, 10 Aug 2022 18:10:59 GMT   (2554kb,D)\\n\\nTitle: Imbalance Trouble: Revisiting Neural-Collapse Geometry\\nAuthors: Christos Thrampoulidis, Ganesh R. Kini, Vala Vakilian, Tina Behnia\\nCategories: cs.LG stat.ML\\nComments: 55 pages, 21 figures\\n\\\\\\\\\\n  Neural Collapse refers to the remarkable structural properties characterizing\\nthe geometry of class embeddings and classifier weights, found by deep nets\\nwhen trained beyond zero training error. However, this characterization only\\nholds for balanced data. Here we thus ask whether it can be made invariant to\\nclass imbalances. Towards this end, we adopt the unconstrained-features model\\n(UFM), a recent theoretical model for studying neural collapse, and introduce\\nSimplex-Encoded-Labels Interpolation (SELI) as an invariant characterization of\\nthe neural collapse phenomenon. Specifically, we prove for the UFM with\\ncross-entropy loss and vanishing regularization that, irrespective of class\\nimbalances, the embeddings and classifiers always interpolate a simplex-encoded\\nlabel matrix and that their individual geometries are determined by the SVD\\nfactors of this same label matrix. We then present extensive experiments on\\nsynthetic and real datasets that confirm convergence to the SELI geometry.\\nHowever, we caution that convergence worsens with increasing imbalances. We\\ntheoretically support this finding by showing that unlike the balanced case,\\nwhen minorities are present, ridge-regularization plays a critical role in\\ntweaking the geometry. This defines new questions and motivates further\\ninvestigations into the impact of class imbalances on the rates at which\\nfirst-order methods converge to their asymptotically preferred solutions.\\n\\\\\\\\ ( https://arxiv.org/abs/2208.05512 ,  2554kb)\\n------------------------------------------------------------------------------'"
      ]
     },
     "execution_count": 39,
     "metadata": {},
     "output_type": "execute_result"
    }
   ],
   "source": [
    "submission = submissions[0]\n",
    "submission"
   ]
  },
  {
   "cell_type": "code",
   "execution_count": 40,
   "id": "7c8162f7",
   "metadata": {},
   "outputs": [],
   "source": [
    "def parse_submission(submission):\n",
    "    [_, meta, body, link] = re.split(r\"\\n\\\\\\\\\", submission)\n",
    "    meta = re.sub(r\"\\n  \", \" \", meta)\n",
    "    headers = [x.strip().split(\":\", 1) for x in re.findall(r\"^\\w+:.*?\\n\", meta, re.M)]\n",
    "    headers = {k.strip(): v.strip() for k, v in headers}\n",
    "    body = body.strip()\n",
    "    url = link.split(\" \")[2]\n",
    "    return headers, body, url"
   ]
  },
  {
   "cell_type": "code",
   "execution_count": 41,
   "id": "2a069de4",
   "metadata": {},
   "outputs": [],
   "source": [
    "def quote_html(text):\n",
    "    return text.replace(\"&\", \"&amp;\").replace(\"<\", \"&lt;\").replace(\">\", \"&gt;\")"
   ]
  },
  {
   "cell_type": "code",
   "execution_count": 42,
   "id": "74d51ba5",
   "metadata": {},
   "outputs": [],
   "source": [
    "import io"
   ]
  },
  {
   "cell_type": "code",
   "execution_count": 43,
   "id": "7ca5812f",
   "metadata": {},
   "outputs": [
    {
     "name": "stdout",
     "output_type": "stream",
     "text": [
      "Exception at 58: ValueError('not enough values to unpack (expected 4, got 3)')\n",
      "Exception at 59: ValueError('not enough values to unpack (expected 4, got 3)')\n",
      "Exception at 60: ValueError('not enough values to unpack (expected 4, got 3)')\n",
      "Exception at 61: ValueError('not enough values to unpack (expected 4, got 3)')\n",
      "Exception at 62: ValueError('not enough values to unpack (expected 4, got 3)')\n",
      "Exception at 63: ValueError('not enough values to unpack (expected 4, got 3)')\n",
      "Exception at 64: ValueError('not enough values to unpack (expected 4, got 3)')\n",
      "Exception at 65: ValueError('not enough values to unpack (expected 4, got 3)')\n",
      "Exception at 66: ValueError('not enough values to unpack (expected 4, got 3)')\n",
      "Exception at 67: ValueError('not enough values to unpack (expected 4, got 3)')\n",
      "Exception at 68: ValueError('not enough values to unpack (expected 4, got 3)')\n",
      "Exception at 69: ValueError('not enough values to unpack (expected 4, got 3)')\n",
      "Exception at 70: ValueError('not enough values to unpack (expected 4, got 3)')\n",
      "Exception at 71: ValueError('not enough values to unpack (expected 4, got 3)')\n",
      "Exception at 72: ValueError('not enough values to unpack (expected 4, got 3)')\n",
      "Exception at 73: ValueError('not enough values to unpack (expected 4, got 3)')\n",
      "Exception at 74: ValueError('not enough values to unpack (expected 4, got 3)')\n",
      "Exception at 75: ValueError('not enough values to unpack (expected 4, got 3)')\n",
      "Exception at 76: ValueError('not enough values to unpack (expected 4, got 3)')\n",
      "Exception at 77: ValueError('not enough values to unpack (expected 4, got 3)')\n",
      "Exception at 78: ValueError('not enough values to unpack (expected 4, got 3)')\n",
      "Exception at 79: ValueError('not enough values to unpack (expected 4, got 3)')\n",
      "Exception at 80: ValueError('not enough values to unpack (expected 4, got 3)')\n",
      "Exception at 81: ValueError('not enough values to unpack (expected 4, got 3)')\n",
      "Exception at 82: ValueError('not enough values to unpack (expected 4, got 3)')\n",
      "Exception at 83: ValueError('not enough values to unpack (expected 4, got 3)')\n",
      "Exception at 84: ValueError('not enough values to unpack (expected 4, got 3)')\n",
      "Exception at 85: ValueError('not enough values to unpack (expected 4, got 3)')\n",
      "Exception at 86: ValueError('not enough values to unpack (expected 4, got 3)')\n",
      "Exception at 87: ValueError('not enough values to unpack (expected 4, got 3)')\n",
      "Exception at 88: ValueError('not enough values to unpack (expected 4, got 3)')\n",
      "Exception at 89: ValueError('not enough values to unpack (expected 4, got 3)')\n",
      "Exception at 90: ValueError('not enough values to unpack (expected 4, got 3)')\n",
      "Exception at 91: ValueError('not enough values to unpack (expected 4, got 3)')\n",
      "Exception at 92: ValueError('not enough values to unpack (expected 4, got 3)')\n",
      "Exception at 93: ValueError('not enough values to unpack (expected 4, got 3)')\n",
      "Exception at 94: ValueError('not enough values to unpack (expected 4, got 3)')\n"
     ]
    }
   ],
   "source": [
    "buf = io.StringIO()\n",
    "buf.write(\"\"\"\n",
    "<!doctype html>\n",
    "<style>\n",
    "body { margin: 20px; }\n",
    "</style>\n",
    "<script>\n",
    "function toggle(arxiv) {\n",
    "  let elt = document.getElementById(arxiv);\n",
    "  console.log(elt, elt.style.display);\n",
    "  if(elt.style.display == \"block\") {\n",
    "    elt.style.display = \"none\";\n",
    "  } else {\n",
    "    elt.style.display = \"block\";\n",
    "  }\n",
    "}\n",
    "</script>\n",
    "\"\"\")\n",
    "for i, submission in enumerate(submissions):\n",
    "    try:\n",
    "        headers, body, url = parse_submission(submission)\n",
    "    except Exception as e:\n",
    "        print(f\"Exception at {i}: {e!r}\")\n",
    "        continue\n",
    "    arxiv = quote_html(headers[\"arXiv\"])\n",
    "    title = quote_html(headers[\"Title\"])\n",
    "    authors = quote_html(headers[\"Authors\"])\n",
    "    body_q = quote_html(body)\n",
    "    buf.write(\"<p>\")\n",
    "    buf.write(f\"<p onclick='toggle(\\\"{arxiv}\\\")'>{title}</p>\\n\")\n",
    "    buf.write(f\"<div id='{arxiv}' style='display: none; margin-left: 20px'>\")\n",
    "    buf.write(f\"<div>Authors: {authors}</div>\")\n",
    "    buf.write(f\"<div style='margin-top: 10px; width: 80ex'>{body_q}</div><div><a href='{url}'>{arxiv}</a></div>\\n\")\n",
    "    buf.write(\"</div>\")\n",
    "    buf.write(\"</p>\")\n",
    "\n",
    "with open(\"arxiv.html\", \"w+\") as f:\n",
    "    f.write(buf.getvalue())"
   ]
  },
  {
   "cell_type": "code",
   "execution_count": null,
   "id": "ecaa34ce",
   "metadata": {},
   "outputs": [],
   "source": []
  }
 ],
 "metadata": {
  "kernelspec": {
   "display_name": "Python 3 (ipykernel)",
   "language": "python",
   "name": "python3"
  },
  "language_info": {
   "codemirror_mode": {
    "name": "ipython",
    "version": 3
   },
   "file_extension": ".py",
   "mimetype": "text/x-python",
   "name": "python",
   "nbconvert_exporter": "python",
   "pygments_lexer": "ipython3",
   "version": "3.9.10"
  }
 },
 "nbformat": 4,
 "nbformat_minor": 5
}
