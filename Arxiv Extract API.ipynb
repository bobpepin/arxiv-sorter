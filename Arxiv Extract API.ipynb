{
 "cells": [
  {
   "cell_type": "code",
   "execution_count": 28,
   "id": "75f5ea51",
   "metadata": {},
   "outputs": [],
   "source": [
    "import urllib.request\n",
    "import urllib.parse\n",
    "import feedparser\n",
    "import sqltables.sqlite3\n",
    "from tqdm.notebook import tqdm"
   ]
  },
  {
   "cell_type": "code",
   "execution_count": 29,
   "id": "98f16d49",
   "metadata": {},
   "outputs": [],
   "source": [
    "start_date = \"2023-01-01\""
   ]
  },
  {
   "cell_type": "code",
   "execution_count": 37,
   "id": "2a069de4",
   "metadata": {},
   "outputs": [],
   "source": [
    "db = sqltables.sqlite3.Database(\"submissions.sqlite3\")\n",
    "if \"submissions\" in list(db.tables):\n",
    "    submissions = db.open_table(\"submissions\")\n",
    "else:\n",
    "    submissions = db.create_table(name=\"submissions\", column_names=[\"arxiv_id\", \"date\", \"title\", \"authors\", \"url\", \"abstract\", \"categories\"])"
   ]
  },
  {
   "cell_type": "code",
   "execution_count": 18,
   "id": "d53cb3e4",
   "metadata": {},
   "outputs": [
    {
     "data": {
      "text/markdown": [
       "|max\\(arxiv\\_id\\)|\n",
       "|-|\n",
       "|\\'2301\\.03580v1\\'|\n"
      ],
      "text/plain": [
       "<sqltables.sqltables.Table at 0x11a864dc0>"
      ]
     },
     "execution_count": 18,
     "metadata": {},
     "output_type": "execute_result"
    }
   ],
   "source": [
    "submissions.view(\"select max(arxiv_id) from _\")"
   ]
  },
  {
   "cell_type": "code",
   "execution_count": 19,
   "id": "8c7ac98e",
   "metadata": {},
   "outputs": [
    {
     "data": {
      "text/plain": [
       "25324"
      ]
     },
     "execution_count": 19,
     "metadata": {},
     "output_type": "execute_result"
    }
   ],
   "source": [
    "processed_submissions = set(row.arxiv_id for row in submissions)\n",
    "len(processed_submissions)"
   ]
  },
  {
   "cell_type": "code",
   "execution_count": 20,
   "id": "92c8d455",
   "metadata": {},
   "outputs": [],
   "source": [
    "def fetch_entries(search_query, start_date, batch_size = 128):\n",
    "    base_url = \"http://export.arxiv.org/api/query\"\n",
    "    query_params = {\n",
    "        \"search_query\": search_query,\n",
    "        \"sortBy\": \"submittedDate\",\n",
    "        \"sortOrder\": \"descending\",\n",
    "        \"max_results\": batch_size,\n",
    "        \"start\": 0\n",
    "    }\n",
    "    hit_start_date = False\n",
    "    while not hit_start_date:\n",
    "        query_str = urllib.parse.urlencode(query_params)\n",
    "        with urllib.request.urlopen(f\"{base_url}?{query_str}\") as fh:\n",
    "            feed = feedparser.parse(fh)\n",
    "        for entry in feed[\"entries\"]:\n",
    "            if entry[\"published\"] < start_date:\n",
    "                hit_start_date = True\n",
    "                break\n",
    "            yield entry\n",
    "        query_params[\"start\"] += batch_size"
   ]
  },
  {
   "cell_type": "code",
   "execution_count": 34,
   "id": "e19db019",
   "metadata": {},
   "outputs": [
    {
     "data": {
      "application/vnd.jupyter.widget-view+json": {
       "model_id": "20ff032091e84949b838a86139adcc47",
       "version_major": 2,
       "version_minor": 0
      },
      "text/plain": [
       "0it [00:00, ?it/s]"
      ]
     },
     "metadata": {},
     "output_type": "display_data"
    },
    {
     "data": {
      "text/plain": [
       "3870"
      ]
     },
     "execution_count": 34,
     "metadata": {},
     "output_type": "execute_result"
    }
   ],
   "source": [
    "categories = [\"cs.LG\", \"math.PR\", \"math.OC\"]\n",
    "rows = []\n",
    "# it = fetch_entries(\"cat:cs.LG\", start_date=start_date)\n",
    "it = (entry \n",
    "      for cat in categories \n",
    "      for entry in fetch_entries(f\"cat:{cat}\", start_date=start_date))\n",
    "for entry in tqdm(it):\n",
    "    arxiv_id = entry[\"id\"].replace(\"http://arxiv.org/abs/\", \"\")\n",
    "    if arxiv_id in processed_submissions:\n",
    "        continue    \n",
    "    date = entry[\"published\"]\n",
    "    title = entry[\"title\"]\n",
    "    url = entry[\"id\"]\n",
    "    abstract = entry[\"summary\"]\n",
    "    authors = \", \".join(x[\"name\"] for x in entry[\"authors\"])\n",
    "    categories = \",\".join([t[\"term\"].strip() for t in entry[\"tags\"] if \"term\" in t])\n",
    "    rows.append([arxiv_id, date, title, authors, url, abstract, categories])\n",
    "len(rows)"
   ]
  },
  {
   "cell_type": "code",
   "execution_count": 38,
   "id": "20c6fde6",
   "metadata": {},
   "outputs": [],
   "source": [
    "submissions.insert(rows)"
   ]
  },
  {
   "cell_type": "code",
   "execution_count": 39,
   "id": "f5472048",
   "metadata": {},
   "outputs": [
    {
     "data": {
      "text/markdown": [
       "|count\\(\\*\\)|\n",
       "|-|\n",
       "|32291|\n"
      ],
      "text/plain": [
       "<sqltables.sqltables.Table at 0x11abb5550>"
      ]
     },
     "execution_count": 39,
     "metadata": {},
     "output_type": "execute_result"
    }
   ],
   "source": [
    "submissions.view(\"select count(*) from _\")"
   ]
  },
  {
   "cell_type": "code",
   "execution_count": 40,
   "id": "8fa425f4",
   "metadata": {},
   "outputs": [
    {
     "data": {
      "text/markdown": [
       "|count\\(distinct arxiv\\_id\\)|\n",
       "|-|\n",
       "|29225|\n"
      ],
      "text/plain": [
       "<sqltables.sqltables.Table at 0x11ac12160>"
      ]
     },
     "execution_count": 40,
     "metadata": {},
     "output_type": "execute_result"
    }
   ],
   "source": [
    "submissions.view(\"select count(distinct arxiv_id) from _\")"
   ]
  },
  {
   "cell_type": "code",
   "execution_count": 41,
   "id": "bcacd7fa",
   "metadata": {},
   "outputs": [],
   "source": [
    "db.close()"
   ]
  },
  {
   "cell_type": "code",
   "execution_count": null,
   "id": "81564d47",
   "metadata": {},
   "outputs": [],
   "source": []
  }
 ],
 "metadata": {
  "kernelspec": {
   "display_name": "Python 3 (ipykernel)",
   "language": "python",
   "name": "python3"
  },
  "language_info": {
   "codemirror_mode": {
    "name": "ipython",
    "version": 3
   },
   "file_extension": ".py",
   "mimetype": "text/x-python",
   "name": "python",
   "nbconvert_exporter": "python",
   "pygments_lexer": "ipython3",
   "version": "3.9.10"
  }
 },
 "nbformat": 4,
 "nbformat_minor": 5
}
