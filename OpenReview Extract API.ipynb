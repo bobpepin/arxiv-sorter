{
 "cells": [
  {
   "cell_type": "code",
   "execution_count": 1,
   "id": "75f5ea51",
   "metadata": {},
   "outputs": [],
   "source": [
    "import sqltables.sqlite3\n",
    "import datetime\n",
    "from tqdm.notebook import tqdm\n",
    "import openreview\n",
    "import json"
   ]
  },
  {
   "cell_type": "code",
   "execution_count": 2,
   "id": "bb9319c7",
   "metadata": {},
   "outputs": [],
   "source": [
    "with open(\"openreview_credentials.json\") as fh:\n",
    "    credentials = json.load(fh)\n",
    "    username = credentials[\"username\"]\n",
    "    password = credentials[\"password\"]\n",
    "\n",
    "client = openreview.api.OpenReviewClient(\n",
    "    baseurl='https://api2.openreview.net',\n",
    "    username=username,\n",
    "    password=password\n",
    ")"
   ]
  },
  {
   "cell_type": "code",
   "execution_count": 3,
   "id": "70d4ec20",
   "metadata": {},
   "outputs": [
    {
     "name": "stdout",
     "output_type": "stream",
     "text": [
      "['ICML.cc/2025/Conference', 'ICML.cc/2024/Conference', 'ICML.cc/2023/Conference', 'ICML.cc/2020/Conference']\n"
     ]
    }
   ],
   "source": [
    "venues = client.get_group(id='venues').members\n",
    "print(list(reversed(sorted([v for v in venues if \"ICML\" in v and \"Conference\" in v]))))\n"
   ]
  },
  {
   "cell_type": "code",
   "execution_count": 4,
   "id": "98f16d49",
   "metadata": {},
   "outputs": [],
   "source": [
    "venue_id = \"ICML.cc/2025/Conference\""
   ]
  },
  {
   "cell_type": "code",
   "execution_count": 5,
   "id": "2a069de4",
   "metadata": {},
   "outputs": [],
   "source": [
    "db = sqltables.sqlite3.Database(\"or_submissions.sqlite3\")\n",
    "if \"submissions\" in list(db.tables):\n",
    "    submissions = db.open_table(\"submissions\")\n",
    "else:\n",
    "    submissions = db.create_table(name=\"submissions\", column_names=[\"arxiv_id\", \"date\", \"title\", \"authors\", \"url\", \"abstract\", \"categories\"])"
   ]
  },
  {
   "cell_type": "code",
   "execution_count": 6,
   "id": "d53cb3e4",
   "metadata": {},
   "outputs": [
    {
     "data": {
      "text/markdown": [
       "|max\\(arxiv\\_id\\)|\n",
       "|-|\n",
       "|\\'zxg6601zoc\\'|\n"
      ],
      "text/plain": [
       "<sqltables.sqltables.Table at 0x1065b5710>"
      ]
     },
     "execution_count": 6,
     "metadata": {},
     "output_type": "execute_result"
    }
   ],
   "source": [
    "submissions.view(\"select max(arxiv_id) from _\")"
   ]
  },
  {
   "cell_type": "code",
   "execution_count": 7,
   "id": "8c7ac98e",
   "metadata": {},
   "outputs": [
    {
     "data": {
      "text/plain": [
       "3704"
      ]
     },
     "execution_count": 7,
     "metadata": {},
     "output_type": "execute_result"
    }
   ],
   "source": [
    "processed_submissions = set(row.arxiv_id for row in submissions)\n",
    "len(processed_submissions)"
   ]
  },
  {
   "cell_type": "code",
   "execution_count": 8,
   "id": "53c437b7",
   "metadata": {},
   "outputs": [
    {
     "data": {
      "text/plain": [
       "0"
      ]
     },
     "execution_count": 8,
     "metadata": {},
     "output_type": "execute_result"
    }
   ],
   "source": [
    "# Get all\n",
    "# venue_group = client.get_group(venue_id)\n",
    "# submission_name = venue_group.content['submission_name']['value']\n",
    "# print(submission_name)\n",
    "# submissions = client.get_all_notes(invitation=f'{venue_id}/-/{submission_name}')\n",
    "\n",
    "# Get accepted submissions\n",
    "or_submissions = client.get_all_notes(content={'venueid': venue_id} )\n",
    "len(or_submissions)"
   ]
  },
  {
   "cell_type": "code",
   "execution_count": 73,
   "id": "e19db019",
   "metadata": {},
   "outputs": [
    {
     "data": {
      "text/plain": [
       "3704"
      ]
     },
     "execution_count": 73,
     "metadata": {},
     "output_type": "execute_result"
    }
   ],
   "source": [
    "rows = []\n",
    "for s in or_submissions:\n",
    "    arxiv_id = s.id    \n",
    "    if arxiv_id in processed_submissions:\n",
    "        continue    \n",
    "    dt = datetime.datetime.fromtimestamp(s.pdate / 1000)\n",
    "    date = dt.isoformat()\n",
    "    content = s.content    \n",
    "    title = content[\"title\"][\"value\"]\n",
    "    url = f\"https://openreview.net/forum?id={arxiv_id}\"\n",
    "    abstract = content[\"abstract\"][\"value\"]\n",
    "    authors = \", \".join(content[\"authors\"][\"value\"])\n",
    "    categories = venue_id\n",
    "    rows.append([arxiv_id, date, title, authors, url, abstract, categories])\n",
    "len(rows)"
   ]
  },
  {
   "cell_type": "code",
   "execution_count": 74,
   "id": "39b202d5",
   "metadata": {},
   "outputs": [
    {
     "data": {
      "text/plain": [
       "['zxg6601zoc',\n",
       " '2025-01-22T17:10:26.953000',\n",
       " 'Re-Imagining Multimodal Instruction Tuning: A Representation View',\n",
       " 'Yiyang Liu, James Chenhao Liang, Ruixiang Tang, Yugyung Lee, MAJID RABBANI, Sohail Dianat, Raghuveer Rao, Lifu Huang, Dongfang Liu, Qifan Wang, Cheng Han',\n",
       " 'https://openreview.net/forum?id=zxg6601zoc',\n",
       " 'Multimodal instruction tuning has proven to be an effective strategy for achieving zero-shot generalization by fine-tuning pre-trained Large Multimodal Models (LMMs) with instruction-following data. However, as the scale of LMMs continues to grow, fully fine-tuning these models has become highly parameter-intensive. Although Parameter-Efficient Fine-Tuning (PEFT) methods have been introduced to reduce the number of tunable parameters, a significant performance gap remains compared to full fine-tuning. Furthermore, existing PEFT approaches are often highly parameterized, making them difficult to interpret and control. In light of this, we introduce Multimodal Representation Tuning (MRT), a novel approach that focuses on directly editing semantically rich multimodal representations to achieve strong performance and provide intuitive control over LMMs. Empirical results show that our method surpasses current state-of-the-art baselines with significant performance gains (e.g., 1580.40 MME score) while requiring substantially fewer tunable parameters (e.g., 0.03% parameters). Additionally, we conduct experiments on editing instrumental tokens within multimodal representations, demonstrating that direct manipulation of these representations enables simple yet effective control over network behavior.',\n",
       " 'ICLR.cc/2025/Conference']"
      ]
     },
     "execution_count": 74,
     "metadata": {},
     "output_type": "execute_result"
    }
   ],
   "source": [
    "rows[0]"
   ]
  },
  {
   "cell_type": "code",
   "execution_count": 75,
   "id": "20c6fde6",
   "metadata": {},
   "outputs": [],
   "source": [
    "submissions.insert(rows)"
   ]
  },
  {
   "cell_type": "code",
   "execution_count": 76,
   "id": "f5472048",
   "metadata": {},
   "outputs": [
    {
     "data": {
      "text/markdown": [
       "|count\\(\\*\\)|\n",
       "|-|\n",
       "|3704|\n"
      ],
      "text/plain": [
       "<sqltables.sqltables.Table at 0x108db00d0>"
      ]
     },
     "execution_count": 76,
     "metadata": {},
     "output_type": "execute_result"
    }
   ],
   "source": [
    "submissions.view(\"select count(*) from _\")"
   ]
  },
  {
   "cell_type": "code",
   "execution_count": 77,
   "id": "8fa425f4",
   "metadata": {},
   "outputs": [
    {
     "data": {
      "text/markdown": [
       "|count\\(distinct arxiv\\_id\\)|\n",
       "|-|\n",
       "|3704|\n"
      ],
      "text/plain": [
       "<sqltables.sqltables.Table at 0x10dc6a950>"
      ]
     },
     "execution_count": 77,
     "metadata": {},
     "output_type": "execute_result"
    }
   ],
   "source": [
    "submissions.view(\"select count(distinct arxiv_id) from _\")"
   ]
  },
  {
   "cell_type": "code",
   "execution_count": 78,
   "id": "bcacd7fa",
   "metadata": {},
   "outputs": [],
   "source": [
    "db.close()"
   ]
  },
  {
   "cell_type": "code",
   "execution_count": null,
   "id": "81564d47",
   "metadata": {},
   "outputs": [],
   "source": []
  }
 ],
 "metadata": {
  "kernelspec": {
   "display_name": "python3.11",
   "language": "python",
   "name": "python3"
  },
  "language_info": {
   "codemirror_mode": {
    "name": "ipython",
    "version": 3
   },
   "file_extension": ".py",
   "mimetype": "text/x-python",
   "name": "python",
   "nbconvert_exporter": "python",
   "pygments_lexer": "ipython3",
   "version": "3.11.12"
  }
 },
 "nbformat": 4,
 "nbformat_minor": 5
}
