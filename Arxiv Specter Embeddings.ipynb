{
 "cells": [
  {
   "cell_type": "code",
   "execution_count": 22,
   "id": "a1521813",
   "metadata": {},
   "outputs": [],
   "source": [
    "import urllib.request\n",
    "import sqltables\n",
    "import json\n",
    "from tqdm.notebook import tqdm\n",
    "from transformers import AutoTokenizer, AutoModel"
   ]
  },
  {
   "cell_type": "code",
   "execution_count": 23,
   "id": "2bc13e9e",
   "metadata": {},
   "outputs": [],
   "source": [
    "db = sqltables.sqlite3.Database(\"submissions.sqlite3\")\n",
    "submissions = db.open_table(\"submissions\")\n",
    "    \n",
    "if \"specter\" in list(db.tables):\n",
    "    specter = db.open_table(\"specter\")\n",
    "else:\n",
    "    specter = db.create_table(name=\"specter\", column_names=[\"arxiv_id\", \"paper_info\"])"
   ]
  },
  {
   "cell_type": "code",
   "execution_count": 24,
   "id": "b1595ba1",
   "metadata": {},
   "outputs": [
    {
     "data": {
      "text/plain": [
       "25324"
      ]
     },
     "execution_count": 24,
     "metadata": {},
     "output_type": "execute_result"
    }
   ],
   "source": [
    "processed = set(row.arxiv_id for row in specter)\n",
    "len(processed)"
   ]
  },
  {
   "cell_type": "code",
   "execution_count": 25,
   "id": "466a946c",
   "metadata": {},
   "outputs": [],
   "source": [
    "batch_size = 32"
   ]
  },
  {
   "cell_type": "code",
   "execution_count": 26,
   "id": "5dd27bd0",
   "metadata": {},
   "outputs": [
    {
     "data": {
      "text/plain": [
       "3078"
      ]
     },
     "execution_count": 26,
     "metadata": {},
     "output_type": "execute_result"
    }
   ],
   "source": [
    "rows = list(submissions.view(\"\"\"\n",
    "select _.* from _ left join specter using (arxiv_id)\n",
    "where specter.arxiv_id is null\n",
    "group by arxiv_id\n",
    "\"\"\"))\n",
    "len(rows)"
   ]
  },
  {
   "cell_type": "code",
   "execution_count": 27,
   "id": "4ca41551",
   "metadata": {},
   "outputs": [
    {
     "name": "stdout",
     "output_type": "stream",
     "text": [
      "0/3078\n",
      "32/3078\n",
      "64/3078\n",
      "96/3078\n",
      "128/3078\n",
      "160/3078\n",
      "192/3078\n",
      "224/3078\n",
      "256/3078\n",
      "288/3078\n",
      "320/3078\n",
      "352/3078\n",
      "384/3078\n",
      "416/3078\n",
      "448/3078\n",
      "480/3078\n",
      "512/3078\n",
      "544/3078\n",
      "576/3078\n",
      "608/3078\n",
      "640/3078\n",
      "672/3078\n",
      "704/3078\n",
      "736/3078\n",
      "768/3078\n",
      "800/3078\n",
      "832/3078\n",
      "864/3078\n",
      "896/3078\n",
      "928/3078\n",
      "960/3078\n",
      "992/3078\n",
      "1024/3078\n",
      "1056/3078\n",
      "1088/3078\n",
      "1120/3078\n",
      "1152/3078\n",
      "1184/3078\n",
      "1216/3078\n",
      "1248/3078\n",
      "1280/3078\n",
      "1312/3078\n",
      "1344/3078\n",
      "1376/3078\n",
      "1408/3078\n",
      "1440/3078\n",
      "1472/3078\n",
      "1504/3078\n",
      "1536/3078\n",
      "1568/3078\n",
      "1600/3078\n",
      "1632/3078\n",
      "1664/3078\n",
      "1696/3078\n",
      "1728/3078\n",
      "1760/3078\n",
      "1792/3078\n",
      "1824/3078\n",
      "1856/3078\n",
      "1888/3078\n",
      "1920/3078\n",
      "1952/3078\n",
      "1984/3078\n",
      "2016/3078\n",
      "2048/3078\n",
      "2080/3078\n",
      "2112/3078\n",
      "2144/3078\n",
      "2176/3078\n",
      "2208/3078\n",
      "2240/3078\n",
      "2272/3078\n",
      "2304/3078\n",
      "2336/3078\n",
      "2368/3078\n",
      "2400/3078\n",
      "2432/3078\n",
      "2464/3078\n",
      "2496/3078\n",
      "2528/3078\n",
      "2560/3078\n",
      "2592/3078\n",
      "2624/3078\n",
      "2656/3078\n",
      "2688/3078\n",
      "2720/3078\n",
      "2752/3078\n",
      "2784/3078\n",
      "2816/3078\n",
      "2848/3078\n",
      "2880/3078\n",
      "2912/3078\n",
      "2944/3078\n",
      "2976/3078\n",
      "3008/3078\n",
      "3040/3078\n",
      "3072/3078\n"
     ]
    }
   ],
   "source": [
    "tokenizer = AutoTokenizer.from_pretrained('allenai/specter')\n",
    "model = AutoModel.from_pretrained('allenai/specter')\n",
    "\n",
    "for i in range(0, len(rows), batch_size):\n",
    "    print(f\"{i}/{len(rows)}\")\n",
    "# for i in [0]:\n",
    "    batch_rows = rows[i:(i+batch_size)]\n",
    "    title_abs = [row.title + tokenizer.sep_token + row.abstract for row in batch_rows]\n",
    "    inputs = tokenizer(title_abs, padding=True, truncation=True, return_tensors=\"pt\", max_length=512)\n",
    "    result = model(**inputs)\n",
    "    # take the first token in the batch as the embedding\n",
    "    embeddings = result.last_hidden_state[:, 0, :]\n",
    "    specter_rows = []\n",
    "    for row, embedding in zip(batch_rows, embeddings.tolist()):\n",
    "        paper_info = {\"embedding\": {\"model\": \"specter@local\", \"vector\": embedding}}\n",
    "        specter_rows.append([row.arxiv_id, json.dumps(paper_info)])\n",
    "    specter.insert(specter_rows)"
   ]
  },
  {
   "cell_type": "code",
   "execution_count": 28,
   "id": "c42e39fd",
   "metadata": {},
   "outputs": [],
   "source": [
    "db.close()"
   ]
  },
  {
   "cell_type": "code",
   "execution_count": null,
   "id": "dc769fcd",
   "metadata": {},
   "outputs": [],
   "source": []
  }
 ],
 "metadata": {
  "kernelspec": {
   "display_name": "Python 3 (ipykernel)",
   "language": "python",
   "name": "python3"
  },
  "language_info": {
   "codemirror_mode": {
    "name": "ipython",
    "version": 3
   },
   "file_extension": ".py",
   "mimetype": "text/x-python",
   "name": "python",
   "nbconvert_exporter": "python",
   "pygments_lexer": "ipython3",
   "version": "3.9.10"
  }
 },
 "nbformat": 4,
 "nbformat_minor": 5
}
