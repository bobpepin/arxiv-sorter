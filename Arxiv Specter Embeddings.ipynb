{
 "cells": [
  {
   "cell_type": "code",
   "execution_count": 1,
   "id": "a1521813",
   "metadata": {},
   "outputs": [],
   "source": [
    "import urllib.request\n",
    "import sqltables\n",
    "import json\n",
    "from tqdm.notebook import tqdm\n",
    "from transformers import AutoTokenizer, AutoModel"
   ]
  },
  {
   "cell_type": "code",
   "execution_count": 2,
   "id": "2bc13e9e",
   "metadata": {},
   "outputs": [],
   "source": [
    "db = sqltables.sqlite3.Database(\"submissions.sqlite3\")\n",
    "submissions = db.open_table(\"submissions\")\n",
    "    \n",
    "if \"specter\" in list(db.tables):\n",
    "    specter = db.open_table(\"specter\")\n",
    "else:\n",
    "    specter = db.create_table(name=\"specter\", column_names=[\"arxiv_id\", \"paper_info\"])"
   ]
  },
  {
   "cell_type": "code",
   "execution_count": 3,
   "id": "b1595ba1",
   "metadata": {},
   "outputs": [
    {
     "data": {
      "text/plain": [
       "0"
      ]
     },
     "execution_count": 3,
     "metadata": {},
     "output_type": "execute_result"
    }
   ],
   "source": [
    "processed = set(row.arxiv_id for row in specter)\n",
    "len(processed)"
   ]
  },
  {
   "cell_type": "code",
   "execution_count": 4,
   "id": "466a946c",
   "metadata": {},
   "outputs": [],
   "source": [
    "batch_size = 32"
   ]
  },
  {
   "cell_type": "code",
   "execution_count": 5,
   "id": "5dd27bd0",
   "metadata": {},
   "outputs": [
    {
     "data": {
      "text/plain": [
       "7069"
      ]
     },
     "execution_count": 5,
     "metadata": {},
     "output_type": "execute_result"
    }
   ],
   "source": [
    "rows = list(submissions.view(\"\"\"\n",
    "select _.* from _ left join specter using (arxiv_id)\n",
    "where specter.arxiv_id is null\n",
    "group by arxiv_id\n",
    "\"\"\"))\n",
    "len(rows)"
   ]
  },
  {
   "cell_type": "code",
   "execution_count": 6,
   "id": "4ca41551",
   "metadata": {},
   "outputs": [
    {
     "data": {
      "application/vnd.jupyter.widget-view+json": {
       "model_id": "b5d4832942f94b5c9221d712bfffaae7",
       "version_major": 2,
       "version_minor": 0
      },
      "text/plain": [
       "tokenizer_config.json:   0%|          | 0.00/321 [00:00<?, ?B/s]"
      ]
     },
     "metadata": {},
     "output_type": "display_data"
    },
    {
     "data": {
      "application/vnd.jupyter.widget-view+json": {
       "model_id": "66fc18348e2e4a8eb2b65a7b2a4a9000",
       "version_major": 2,
       "version_minor": 0
      },
      "text/plain": [
       "config.json:   0%|          | 0.00/612 [00:00<?, ?B/s]"
      ]
     },
     "metadata": {},
     "output_type": "display_data"
    },
    {
     "data": {
      "application/vnd.jupyter.widget-view+json": {
       "model_id": "1dc7f7bc7fac46349bc074a1fe8501cd",
       "version_major": 2,
       "version_minor": 0
      },
      "text/plain": [
       "vocab.txt:   0%|          | 0.00/222k [00:00<?, ?B/s]"
      ]
     },
     "metadata": {},
     "output_type": "display_data"
    },
    {
     "data": {
      "application/vnd.jupyter.widget-view+json": {
       "model_id": "4115af40725e4e5192d8b8249abe0696",
       "version_major": 2,
       "version_minor": 0
      },
      "text/plain": [
       "special_tokens_map.json:   0%|          | 0.00/112 [00:00<?, ?B/s]"
      ]
     },
     "metadata": {},
     "output_type": "display_data"
    },
    {
     "data": {
      "application/vnd.jupyter.widget-view+json": {
       "model_id": "07054d859ed84affba04bfa989b2f0bf",
       "version_major": 2,
       "version_minor": 0
      },
      "text/plain": [
       "pytorch_model.bin:   0%|          | 0.00/440M [00:00<?, ?B/s]"
      ]
     },
     "metadata": {},
     "output_type": "display_data"
    },
    {
     "name": "stdout",
     "output_type": "stream",
     "text": [
      "0/7069\n",
      "32/7069\n",
      "64/7069\n",
      "96/7069\n",
      "128/7069\n",
      "160/7069\n",
      "192/7069\n",
      "224/7069\n",
      "256/7069\n",
      "288/7069\n",
      "320/7069\n",
      "352/7069\n",
      "384/7069\n",
      "416/7069\n",
      "448/7069\n",
      "480/7069\n",
      "512/7069\n",
      "544/7069\n",
      "576/7069\n",
      "608/7069\n",
      "640/7069\n",
      "672/7069\n",
      "704/7069\n",
      "736/7069\n",
      "768/7069\n",
      "800/7069\n",
      "832/7069\n",
      "864/7069\n",
      "896/7069\n",
      "928/7069\n",
      "960/7069\n",
      "992/7069\n",
      "1024/7069\n",
      "1056/7069\n",
      "1088/7069\n",
      "1120/7069\n",
      "1152/7069\n",
      "1184/7069\n",
      "1216/7069\n",
      "1248/7069\n",
      "1280/7069\n",
      "1312/7069\n",
      "1344/7069\n",
      "1376/7069\n",
      "1408/7069\n",
      "1440/7069\n",
      "1472/7069\n",
      "1504/7069\n",
      "1536/7069\n",
      "1568/7069\n",
      "1600/7069\n",
      "1632/7069\n",
      "1664/7069\n",
      "1696/7069\n",
      "1728/7069\n",
      "1760/7069\n",
      "1792/7069\n",
      "1824/7069\n",
      "1856/7069\n",
      "1888/7069\n",
      "1920/7069\n",
      "1952/7069\n",
      "1984/7069\n",
      "2016/7069\n",
      "2048/7069\n",
      "2080/7069\n",
      "2112/7069\n",
      "2144/7069\n",
      "2176/7069\n",
      "2208/7069\n",
      "2240/7069\n",
      "2272/7069\n",
      "2304/7069\n",
      "2336/7069\n",
      "2368/7069\n",
      "2400/7069\n",
      "2432/7069\n",
      "2464/7069\n",
      "2496/7069\n",
      "2528/7069\n",
      "2560/7069\n",
      "2592/7069\n",
      "2624/7069\n",
      "2656/7069\n",
      "2688/7069\n",
      "2720/7069\n",
      "2752/7069\n",
      "2784/7069\n",
      "2816/7069\n",
      "2848/7069\n",
      "2880/7069\n",
      "2912/7069\n",
      "2944/7069\n",
      "2976/7069\n",
      "3008/7069\n",
      "3040/7069\n",
      "3072/7069\n",
      "3104/7069\n",
      "3136/7069\n",
      "3168/7069\n",
      "3200/7069\n",
      "3232/7069\n",
      "3264/7069\n",
      "3296/7069\n",
      "3328/7069\n",
      "3360/7069\n",
      "3392/7069\n",
      "3424/7069\n",
      "3456/7069\n",
      "3488/7069\n",
      "3520/7069\n",
      "3552/7069\n",
      "3584/7069\n",
      "3616/7069\n",
      "3648/7069\n",
      "3680/7069\n",
      "3712/7069\n",
      "3744/7069\n",
      "3776/7069\n",
      "3808/7069\n",
      "3840/7069\n",
      "3872/7069\n",
      "3904/7069\n",
      "3936/7069\n",
      "3968/7069\n",
      "4000/7069\n",
      "4032/7069\n",
      "4064/7069\n",
      "4096/7069\n",
      "4128/7069\n",
      "4160/7069\n",
      "4192/7069\n",
      "4224/7069\n",
      "4256/7069\n",
      "4288/7069\n",
      "4320/7069\n",
      "4352/7069\n",
      "4384/7069\n",
      "4416/7069\n",
      "4448/7069\n",
      "4480/7069\n",
      "4512/7069\n",
      "4544/7069\n",
      "4576/7069\n",
      "4608/7069\n",
      "4640/7069\n",
      "4672/7069\n",
      "4704/7069\n",
      "4736/7069\n",
      "4768/7069\n",
      "4800/7069\n",
      "4832/7069\n",
      "4864/7069\n",
      "4896/7069\n",
      "4928/7069\n",
      "4960/7069\n",
      "4992/7069\n",
      "5024/7069\n",
      "5056/7069\n",
      "5088/7069\n",
      "5120/7069\n",
      "5152/7069\n",
      "5184/7069\n",
      "5216/7069\n",
      "5248/7069\n",
      "5280/7069\n",
      "5312/7069\n",
      "5344/7069\n",
      "5376/7069\n",
      "5408/7069\n",
      "5440/7069\n",
      "5472/7069\n",
      "5504/7069\n",
      "5536/7069\n",
      "5568/7069\n",
      "5600/7069\n",
      "5632/7069\n",
      "5664/7069\n",
      "5696/7069\n",
      "5728/7069\n",
      "5760/7069\n",
      "5792/7069\n",
      "5824/7069\n",
      "5856/7069\n",
      "5888/7069\n",
      "5920/7069\n",
      "5952/7069\n",
      "5984/7069\n",
      "6016/7069\n",
      "6048/7069\n",
      "6080/7069\n",
      "6112/7069\n",
      "6144/7069\n",
      "6176/7069\n",
      "6208/7069\n",
      "6240/7069\n",
      "6272/7069\n",
      "6304/7069\n",
      "6336/7069\n",
      "6368/7069\n",
      "6400/7069\n",
      "6432/7069\n",
      "6464/7069\n",
      "6496/7069\n",
      "6528/7069\n",
      "6560/7069\n",
      "6592/7069\n",
      "6624/7069\n",
      "6656/7069\n",
      "6688/7069\n",
      "6720/7069\n",
      "6752/7069\n",
      "6784/7069\n",
      "6816/7069\n",
      "6848/7069\n",
      "6880/7069\n",
      "6912/7069\n",
      "6944/7069\n",
      "6976/7069\n",
      "7008/7069\n",
      "7040/7069\n"
     ]
    }
   ],
   "source": [
    "tokenizer = AutoTokenizer.from_pretrained('allenai/specter')\n",
    "model = AutoModel.from_pretrained('allenai/specter')\n",
    "\n",
    "for i in range(0, len(rows), batch_size):\n",
    "    print(f\"{i}/{len(rows)}\")\n",
    "# for i in [0]:\n",
    "    batch_rows = rows[i:(i+batch_size)]\n",
    "    title_abs = [row.title + tokenizer.sep_token + row.abstract for row in batch_rows]\n",
    "    inputs = tokenizer(title_abs, padding=True, truncation=True, return_tensors=\"pt\", max_length=512)\n",
    "    result = model(**inputs)\n",
    "    # take the first token in the batch as the embedding\n",
    "    embeddings = result.last_hidden_state[:, 0, :]\n",
    "    specter_rows = []\n",
    "    for row, embedding in zip(batch_rows, embeddings.tolist()):\n",
    "        paper_info = {\"embedding\": {\"model\": \"specter@local\", \"vector\": embedding}}\n",
    "        specter_rows.append([row.arxiv_id, json.dumps(paper_info)])\n",
    "    specter.insert(specter_rows)"
   ]
  },
  {
   "cell_type": "code",
   "execution_count": 7,
   "id": "c42e39fd",
   "metadata": {},
   "outputs": [],
   "source": [
    "db.close()"
   ]
  },
  {
   "cell_type": "code",
   "execution_count": null,
   "id": "dc769fcd",
   "metadata": {},
   "outputs": [],
   "source": []
  }
 ],
 "metadata": {
  "kernelspec": {
   "display_name": "Python 3 (ipykernel)",
   "language": "python",
   "name": "python3"
  },
  "language_info": {
   "codemirror_mode": {
    "name": "ipython",
    "version": 3
   },
   "file_extension": ".py",
   "mimetype": "text/x-python",
   "name": "python",
   "nbconvert_exporter": "python",
   "pygments_lexer": "ipython3",
   "version": "3.11.7"
  }
 },
 "nbformat": 4,
 "nbformat_minor": 5
}
