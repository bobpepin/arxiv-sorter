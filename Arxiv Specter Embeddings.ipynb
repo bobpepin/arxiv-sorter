{
 "cells": [
  {
   "cell_type": "code",
   "execution_count": 43,
   "id": "a1521813",
   "metadata": {},
   "outputs": [],
   "source": [
    "import urllib.request\n",
    "import sqltables\n",
    "import json\n",
    "from tqdm.notebook import tqdm\n",
    "from transformers import AutoTokenizer, AutoModel"
   ]
  },
  {
   "cell_type": "code",
   "execution_count": 70,
   "id": "2bc13e9e",
   "metadata": {},
   "outputs": [],
   "source": [
    "db = sqltables.sqlite3.Database(\"submissions.sqlite3\")\n",
    "if \"submissions\" in list(db.tables):\n",
    "    submissions = db.open_table(\"submissions\")\n",
    "else:\n",
    "    submissions = db.create_table(name=\"submissions\", column_names=[\"arxiv_id\", \"date\", \"title\", \"authors\", \"url\", \"abstract\"])\n",
    "    \n",
    "if \"specter\" in list(db.tables):\n",
    "    specter = db.open_table(\"specter\")\n",
    "else:\n",
    "    specter = db.create_table(name=\"specter\", column_names=[\"arxiv_id\", \"paper_info\"])"
   ]
  },
  {
   "cell_type": "code",
   "execution_count": 71,
   "id": "b1595ba1",
   "metadata": {},
   "outputs": [
    {
     "data": {
      "text/plain": [
       "set()"
      ]
     },
     "execution_count": 71,
     "metadata": {},
     "output_type": "execute_result"
    }
   ],
   "source": [
    "processed = set(row.arxiv_id for row in specter)\n",
    "processed"
   ]
  },
  {
   "cell_type": "code",
   "execution_count": 63,
   "id": "466a946c",
   "metadata": {},
   "outputs": [],
   "source": [
    "batch_size = 64"
   ]
  },
  {
   "cell_type": "code",
   "execution_count": 74,
   "id": "4ca41551",
   "metadata": {},
   "outputs": [
    {
     "data": {
      "application/vnd.jupyter.widget-view+json": {
       "model_id": "0f67701ea2894e83ab9ddeae30c3545e",
       "version_major": 2,
       "version_minor": 0
      },
      "text/plain": [
       "  0%|          | 0/265 [00:00<?, ?it/s]"
      ]
     },
     "metadata": {},
     "output_type": "display_data"
    }
   ],
   "source": [
    "rows = list(submissions.view(\"\"\"select * from _ group by arxiv_id\"\"\"))\n",
    "\n",
    "tokenizer = AutoTokenizer.from_pretrained('allenai/specter')\n",
    "model = AutoModel.from_pretrained('allenai/specter')\n",
    "\n",
    "for i in tqdm(range(0, len(rows), batch_size)):\n",
    "# for i in [0]:\n",
    "    batch_rows = rows[i:(i+batch_size)]\n",
    "    title_abs = [row.title + tokenizer.sep_token + row.abstract for row in batch_rows]\n",
    "    inputs = tokenizer(title_abs, padding=True, truncation=True, return_tensors=\"pt\", max_length=512)\n",
    "    result = model(**inputs)\n",
    "    # take the first token in the batch as the embedding\n",
    "    embeddings = result.last_hidden_state[:, 0, :]\n",
    "    specter_rows = []\n",
    "    for row, embedding in zip(batch_rows, embeddings.tolist()):\n",
    "        paper_info = {\"embedding\": {\"model\": \"specter@local\", \"vector\": embedding}}\n",
    "        specter_rows.append([row.arxiv_id, json.dumps(paper_info)])\n",
    "    specter.insert(specter_rows)"
   ]
  },
  {
   "cell_type": "code",
   "execution_count": 75,
   "id": "c42e39fd",
   "metadata": {},
   "outputs": [],
   "source": [
    "db.close()"
   ]
  }
 ],
 "metadata": {
  "kernelspec": {
   "display_name": "Python 3 (ipykernel)",
   "language": "python",
   "name": "python3"
  },
  "language_info": {
   "codemirror_mode": {
    "name": "ipython",
    "version": 3
   },
   "file_extension": ".py",
   "mimetype": "text/x-python",
   "name": "python",
   "nbconvert_exporter": "python",
   "pygments_lexer": "ipython3",
   "version": "3.9.10"
  }
 },
 "nbformat": 4,
 "nbformat_minor": 5
}
