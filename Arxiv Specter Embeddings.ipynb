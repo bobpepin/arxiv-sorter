{
 "cells": [
  {
   "cell_type": "code",
   "execution_count": 1,
   "id": "a1521813",
   "metadata": {},
   "outputs": [
    {
     "name": "stderr",
     "output_type": "stream",
     "text": [
      "/Users/bob/venv/python3.11/lib/python3.11/site-packages/transformers/utils/generic.py:441: UserWarning: torch.utils._pytree._register_pytree_node is deprecated. Please use torch.utils._pytree.register_pytree_node instead.\n",
      "  _torch_pytree._register_pytree_node(\n"
     ]
    }
   ],
   "source": [
    "import urllib.request\n",
    "import sqltables\n",
    "import json\n",
    "from tqdm.notebook import tqdm\n",
    "from transformers import AutoTokenizer, AutoModel"
   ]
  },
  {
   "cell_type": "code",
   "execution_count": 2,
   "id": "2bc13e9e",
   "metadata": {},
   "outputs": [],
   "source": [
    "db = sqltables.sqlite3.Database(\"submissions.sqlite3\")\n",
    "submissions = db.open_table(\"submissions\")\n",
    "    \n",
    "if \"specter\" in list(db.tables):\n",
    "    specter = db.open_table(\"specter\")\n",
    "else:\n",
    "    specter = db.create_table(name=\"specter\", column_names=[\"arxiv_id\", \"paper_info\"])"
   ]
  },
  {
   "cell_type": "code",
   "execution_count": 3,
   "id": "b1595ba1",
   "metadata": {},
   "outputs": [
    {
     "data": {
      "text/plain": [
       "8604"
      ]
     },
     "execution_count": 3,
     "metadata": {},
     "output_type": "execute_result"
    }
   ],
   "source": [
    "processed = set(row.arxiv_id for row in specter)\n",
    "len(processed)"
   ]
  },
  {
   "cell_type": "code",
   "execution_count": 4,
   "id": "466a946c",
   "metadata": {},
   "outputs": [],
   "source": [
    "batch_size = 32"
   ]
  },
  {
   "cell_type": "code",
   "execution_count": 5,
   "id": "5dd27bd0",
   "metadata": {},
   "outputs": [
    {
     "data": {
      "text/plain": [
       "1535"
      ]
     },
     "execution_count": 5,
     "metadata": {},
     "output_type": "execute_result"
    }
   ],
   "source": [
    "rows = list(submissions.view(\"\"\"\n",
    "select _.* from _ left join specter using (arxiv_id)\n",
    "where specter.arxiv_id is null\n",
    "group by arxiv_id\n",
    "\"\"\"))\n",
    "len(rows)"
   ]
  },
  {
   "cell_type": "code",
   "execution_count": 6,
   "id": "4ca41551",
   "metadata": {},
   "outputs": [
    {
     "name": "stderr",
     "output_type": "stream",
     "text": [
      "/Users/bob/venv/python3.11/lib/python3.11/site-packages/transformers/utils/generic.py:309: UserWarning: torch.utils._pytree._register_pytree_node is deprecated. Please use torch.utils._pytree.register_pytree_node instead.\n",
      "  _torch_pytree._register_pytree_node(\n",
      "/Users/bob/venv/python3.11/lib/python3.11/site-packages/transformers/utils/generic.py:309: UserWarning: torch.utils._pytree._register_pytree_node is deprecated. Please use torch.utils._pytree.register_pytree_node instead.\n",
      "  _torch_pytree._register_pytree_node(\n"
     ]
    },
    {
     "name": "stdout",
     "output_type": "stream",
     "text": [
      "0/1535\n",
      "32/1535\n",
      "64/1535\n",
      "96/1535\n",
      "128/1535\n",
      "160/1535\n",
      "192/1535\n",
      "224/1535\n",
      "256/1535\n",
      "288/1535\n",
      "320/1535\n",
      "352/1535\n",
      "384/1535\n",
      "416/1535\n",
      "448/1535\n",
      "480/1535\n",
      "512/1535\n",
      "544/1535\n",
      "576/1535\n",
      "608/1535\n",
      "640/1535\n",
      "672/1535\n",
      "704/1535\n",
      "736/1535\n",
      "768/1535\n",
      "800/1535\n",
      "832/1535\n",
      "864/1535\n",
      "896/1535\n",
      "928/1535\n",
      "960/1535\n",
      "992/1535\n",
      "1024/1535\n",
      "1056/1535\n",
      "1088/1535\n",
      "1120/1535\n",
      "1152/1535\n",
      "1184/1535\n",
      "1216/1535\n",
      "1248/1535\n",
      "1280/1535\n",
      "1312/1535\n",
      "1344/1535\n",
      "1376/1535\n",
      "1408/1535\n",
      "1440/1535\n",
      "1472/1535\n",
      "1504/1535\n"
     ]
    }
   ],
   "source": [
    "tokenizer = AutoTokenizer.from_pretrained('allenai/specter')\n",
    "model = AutoModel.from_pretrained('allenai/specter')\n",
    "\n",
    "for i in range(0, len(rows), batch_size):\n",
    "    print(f\"{i}/{len(rows)}\")\n",
    "# for i in [0]:\n",
    "    batch_rows = rows[i:(i+batch_size)]\n",
    "    title_abs = [row.title + tokenizer.sep_token + row.abstract for row in batch_rows]\n",
    "    inputs = tokenizer(title_abs, padding=True, truncation=True, return_tensors=\"pt\", max_length=512)\n",
    "    result = model(**inputs)\n",
    "    # take the first token in the batch as the embedding\n",
    "    embeddings = result.last_hidden_state[:, 0, :]\n",
    "    specter_rows = []\n",
    "    for row, embedding in zip(batch_rows, embeddings.tolist()):\n",
    "        paper_info = {\"embedding\": {\"model\": \"specter@local\", \"vector\": embedding}}\n",
    "        specter_rows.append([row.arxiv_id, json.dumps(paper_info)])\n",
    "    specter.insert(specter_rows)"
   ]
  },
  {
   "cell_type": "code",
   "execution_count": 7,
   "id": "c42e39fd",
   "metadata": {},
   "outputs": [],
   "source": [
    "db.close()"
   ]
  },
  {
   "cell_type": "code",
   "execution_count": null,
   "id": "dc769fcd",
   "metadata": {},
   "outputs": [],
   "source": []
  }
 ],
 "metadata": {
  "kernelspec": {
   "display_name": "Python 3 (ipykernel)",
   "language": "python",
   "name": "python3"
  },
  "language_info": {
   "codemirror_mode": {
    "name": "ipython",
    "version": 3
   },
   "file_extension": ".py",
   "mimetype": "text/x-python",
   "name": "python",
   "nbconvert_exporter": "python",
   "pygments_lexer": "ipython3",
   "version": "3.11.7"
  }
 },
 "nbformat": 4,
 "nbformat_minor": 5
}
