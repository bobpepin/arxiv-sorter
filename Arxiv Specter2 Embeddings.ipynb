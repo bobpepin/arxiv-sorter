{
 "cells": [
  {
   "cell_type": "code",
   "execution_count": 4,
   "id": "a1521813",
   "metadata": {},
   "outputs": [],
   "source": [
    "import urllib.request\n",
    "import sqltables\n",
    "import json\n",
    "from tqdm.notebook import tqdm\n",
    "from transformers import AutoTokenizer\n",
    "from adapters import AutoAdapterModel"
   ]
  },
  {
   "cell_type": "code",
   "execution_count": 5,
   "id": "53a4c663",
   "metadata": {},
   "outputs": [],
   "source": [
    "database_file = \"or_submissions.sqlite3\"\n",
    "# database_file = \"submissions.sqlite3\""
   ]
  },
  {
   "cell_type": "code",
   "execution_count": 6,
   "id": "2bc13e9e",
   "metadata": {},
   "outputs": [],
   "source": [
    "db = sqltables.sqlite3.Database(database_file)\n",
    "submissions = db.open_table(\"submissions\")\n",
    "    \n",
    "if \"specter\" in list(db.tables):\n",
    "    specter = db.open_table(\"specter\")\n",
    "else:\n",
    "    specter = db.create_table(name=\"specter\", column_names=[\"arxiv_id\", \"paper_info\"])"
   ]
  },
  {
   "cell_type": "code",
   "execution_count": 7,
   "id": "b1595ba1",
   "metadata": {},
   "outputs": [
    {
     "data": {
      "text/plain": [
       "0"
      ]
     },
     "execution_count": 7,
     "metadata": {},
     "output_type": "execute_result"
    }
   ],
   "source": [
    "processed = set(row.arxiv_id for row in specter)\n",
    "len(processed)"
   ]
  },
  {
   "cell_type": "code",
   "execution_count": 8,
   "id": "466a946c",
   "metadata": {},
   "outputs": [],
   "source": [
    "batch_size = 32"
   ]
  },
  {
   "cell_type": "code",
   "execution_count": 9,
   "id": "5dd27bd0",
   "metadata": {},
   "outputs": [
    {
     "data": {
      "text/plain": [
       "3704"
      ]
     },
     "execution_count": 9,
     "metadata": {},
     "output_type": "execute_result"
    }
   ],
   "source": [
    "rows = list(submissions.view(\"\"\"\n",
    "select _.* from _ left join specter using (arxiv_id)\n",
    "where specter.arxiv_id is null\n",
    "group by arxiv_id\n",
    "\"\"\"))\n",
    "len(rows)"
   ]
  },
  {
   "cell_type": "code",
   "execution_count": 10,
   "id": "81607eda-5abf-4bf1-824c-50c48ea15409",
   "metadata": {},
   "outputs": [
    {
     "name": "stderr",
     "output_type": "stream",
     "text": [
      "BertAdapterModel has generative capabilities, as `prepare_inputs_for_generation` is explicitly overwritten. However, it doesn't directly inherit from `GenerationMixin`. From 👉v4.50👈 onwards, `PreTrainedModel` will NOT inherit from `GenerationMixin`, and this model will lose the ability to call `generate` and other related functions.\n",
      "  - If you're using `trust_remote_code=True`, you can get rid of this warning by loading the model with an auto class. See https://huggingface.co/docs/transformers/en/model_doc/auto#auto-classes\n",
      "  - If you are the owner of the model architecture code, please modify your model class such that it inherits from `GenerationMixin` (after `PreTrainedModel`, otherwise you'll get an exception).\n",
      "  - If you are not the owner of the model architecture class, please contact the model code owner to update it.\n"
     ]
    },
    {
     "data": {
      "application/vnd.jupyter.widget-view+json": {
       "model_id": "65c4e2ea5dc84e93ac1f77193d273de3",
       "version_major": 2,
       "version_minor": 0
      },
      "text/plain": [
       "Fetching 4 files:   0%|          | 0/4 [00:00<?, ?it/s]"
      ]
     },
     "metadata": {},
     "output_type": "display_data"
    },
    {
     "data": {
      "text/plain": [
       "'specter2'"
      ]
     },
     "execution_count": 10,
     "metadata": {},
     "output_type": "execute_result"
    }
   ],
   "source": [
    "tokenizer = AutoTokenizer.from_pretrained('allenai/specter2_base')\n",
    "model = AutoAdapterModel.from_pretrained('allenai/specter2_base')\n",
    "model.load_adapter(\"allenai/specter2\", source=\"hf\", load_as=\"specter2\", set_active=True)"
   ]
  },
  {
   "cell_type": "code",
   "execution_count": 11,
   "id": "98e3d318-ab19-49ec-9cf0-03609fa772f6",
   "metadata": {},
   "outputs": [],
   "source": [
    "from tqdm.notebook import tqdm"
   ]
  },
  {
   "cell_type": "code",
   "execution_count": 12,
   "id": "d0d5f871-aff0-45a6-b81c-d5d08d9a0755",
   "metadata": {},
   "outputs": [
    {
     "data": {
      "application/vnd.jupyter.widget-view+json": {
       "model_id": "eb80313249014677bd47081a8015bb47",
       "version_major": 2,
       "version_minor": 0
      },
      "text/plain": [
       "  0%|          | 0/3704 [00:00<?, ?it/s]"
      ]
     },
     "metadata": {},
     "output_type": "display_data"
    },
    {
     "name": "stdout",
     "output_type": "stream",
     "text": [
      "0/3704\n",
      "32/3704\n",
      "64/3704\n",
      "96/3704\n",
      "128/3704\n",
      "160/3704\n",
      "192/3704\n",
      "224/3704\n",
      "256/3704\n",
      "288/3704\n",
      "320/3704\n",
      "352/3704\n",
      "384/3704\n",
      "416/3704\n",
      "448/3704\n",
      "480/3704\n",
      "512/3704\n",
      "544/3704\n",
      "576/3704\n",
      "608/3704\n",
      "640/3704\n",
      "672/3704\n",
      "704/3704\n",
      "736/3704\n",
      "768/3704\n",
      "800/3704\n",
      "832/3704\n",
      "864/3704\n",
      "896/3704\n",
      "928/3704\n",
      "960/3704\n",
      "992/3704\n",
      "1024/3704\n",
      "1056/3704\n",
      "1088/3704\n",
      "1120/3704\n",
      "1152/3704\n",
      "1184/3704\n",
      "1216/3704\n",
      "1248/3704\n",
      "1280/3704\n",
      "1312/3704\n",
      "1344/3704\n",
      "1376/3704\n",
      "1408/3704\n",
      "1440/3704\n",
      "1472/3704\n",
      "1504/3704\n",
      "1536/3704\n",
      "1568/3704\n",
      "1600/3704\n",
      "1632/3704\n",
      "1664/3704\n",
      "1696/3704\n",
      "1728/3704\n",
      "1760/3704\n",
      "1792/3704\n",
      "1824/3704\n",
      "1856/3704\n",
      "1888/3704\n",
      "1920/3704\n",
      "1952/3704\n",
      "1984/3704\n",
      "2016/3704\n",
      "2048/3704\n",
      "2080/3704\n",
      "2112/3704\n",
      "2144/3704\n",
      "2176/3704\n",
      "2208/3704\n",
      "2240/3704\n",
      "2272/3704\n",
      "2304/3704\n",
      "2336/3704\n",
      "2368/3704\n",
      "2400/3704\n",
      "2432/3704\n",
      "2464/3704\n",
      "2496/3704\n",
      "2528/3704\n",
      "2560/3704\n",
      "2592/3704\n",
      "2624/3704\n",
      "2656/3704\n",
      "2688/3704\n",
      "2720/3704\n",
      "2752/3704\n",
      "2784/3704\n",
      "2816/3704\n",
      "2848/3704\n",
      "2880/3704\n",
      "2912/3704\n",
      "2944/3704\n",
      "2976/3704\n",
      "3008/3704\n",
      "3040/3704\n",
      "3072/3704\n",
      "3104/3704\n",
      "3136/3704\n",
      "3168/3704\n",
      "3200/3704\n",
      "3232/3704\n",
      "3264/3704\n",
      "3296/3704\n",
      "3328/3704\n",
      "3360/3704\n",
      "3392/3704\n",
      "3424/3704\n",
      "3456/3704\n",
      "3488/3704\n",
      "3520/3704\n",
      "3552/3704\n",
      "3584/3704\n",
      "3616/3704\n",
      "3648/3704\n",
      "3680/3704\n"
     ]
    }
   ],
   "source": [
    "progress = tqdm(total=len(rows))\n",
    "for i in range(0, len(rows), batch_size):\n",
    "    print(f\"{i}/{len(rows)}\")\n",
    "# for i in [0]:\n",
    "    batch_rows = rows[i:(i+batch_size)]\n",
    "    title_abs = [row.title + tokenizer.sep_token + row.abstract for row in batch_rows]\n",
    "    inputs = tokenizer(title_abs, padding=True, truncation=True, return_tensors=\"pt\", max_length=512)\n",
    "    result = model(**inputs)\n",
    "    # take the first token in the batch as the embedding\n",
    "    embeddings = result.last_hidden_state[:, 0, :]\n",
    "    specter_rows = []\n",
    "    for row, embedding in zip(batch_rows, embeddings.tolist()):\n",
    "        paper_info = {\"embedding\": {\"model\": \"specter2@local\", \"vector\": embedding}}\n",
    "        specter_rows.append([row.arxiv_id, json.dumps(paper_info)])\n",
    "    specter.insert(specter_rows)\n",
    "    progress.update(batch_size)"
   ]
  },
  {
   "cell_type": "code",
   "execution_count": 13,
   "id": "c42e39fd",
   "metadata": {},
   "outputs": [],
   "source": [
    "db.close()"
   ]
  },
  {
   "cell_type": "code",
   "execution_count": null,
   "id": "dc769fcd",
   "metadata": {},
   "outputs": [],
   "source": []
  }
 ],
 "metadata": {
  "kernelspec": {
   "display_name": "python3.11",
   "language": "python",
   "name": "python3"
  },
  "language_info": {
   "codemirror_mode": {
    "name": "ipython",
    "version": 3
   },
   "file_extension": ".py",
   "mimetype": "text/x-python",
   "name": "python",
   "nbconvert_exporter": "python",
   "pygments_lexer": "ipython3",
   "version": "3.11.12"
  }
 },
 "nbformat": 4,
 "nbformat_minor": 5
}
